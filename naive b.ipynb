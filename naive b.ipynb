{
  "nbformat": 4,
  "nbformat_minor": 0,
  "metadata": {
    "colab": {
      "name": "Untitled20.ipynb",
      "provenance": [],
      "collapsed_sections": []
    },
    "kernelspec": {
      "name": "python3",
      "display_name": "Python 3"
    },
    "language_info": {
      "name": "python"
    }
  },
  "cells": [
    {
      "cell_type": "markdown",
      "source": [
        "Iris dataset Classification using Naive Bayes Algorithm"
      ],
      "metadata": {
        "id": "S6dkUPsq93W4"
      }
    },
    {
      "cell_type": "code",
      "source": [
        "#importing all packages\n",
        "import pandas as pd\n",
        "import numpy as np\n",
        "from sklearn.naive_bayes import GaussianNB\n",
        "from sklearn.model_selection import train_test_split\n",
        "from sklearn.metrics import confusion_matrix\n",
        "from sklearn.metrics import accuracy_score"
      ],
      "metadata": {
        "id": "_anJyESn9_CI"
      },
      "execution_count": 51,
      "outputs": []
    },
    {
      "cell_type": "code",
      "source": [
        "#Loading the Iris dataset using the 'read_csv()' function from pandas library\n",
        "#The read_csv() function read the contents of a dataset stored in .csv or comma separated values format\n",
        "data = pd.read_csv(\"Iris.csv\")\n",
        "\n",
        "#Checking if the dataset was read properly\n",
        "print(data.head())"
      ],
      "metadata": {
        "colab": {
          "base_uri": "https://localhost:8080/"
        },
        "id": "yTGdWXRih91T",
        "outputId": "a1798b36-eaa8-4842-ffc7-883953ee6170"
      },
      "execution_count": 52,
      "outputs": [
        {
          "output_type": "stream",
          "name": "stdout",
          "text": [
            "   Id  SepalLengthCm  SepalWidthCm  PetalLengthCm  PetalWidthCm      Species\n",
            "0   1            5.1           3.5            1.4           0.2  Iris-setosa\n",
            "1   2            4.9           3.0            1.4           0.2  Iris-setosa\n",
            "2   3            4.7           3.2            1.3           0.2  Iris-setosa\n",
            "3   4            4.6           3.1            1.5           0.2  Iris-setosa\n",
            "4   5            5.0           3.6            1.4           0.2  Iris-setosa\n"
          ]
        }
      ]
    },
    {
      "cell_type": "code",
      "source": [
        "#Our prediction target or dependent variable is the 'Species' column\n",
        "#Separating the dependent variable and the independent variables using dataframe slicing techniques from pandas library\n",
        "X = data.iloc[:,1:5].values #Set of independent variables\n",
        "y = data['Species'].values #Dependent variable"
      ],
      "metadata": {
        "id": "41Z6oWUVi_JV"
      },
      "execution_count": 53,
      "outputs": []
    },
    {
      "cell_type": "code",
      "source": [
        "#Splitting the dataset into Training Set and Testing Set\n",
        "#Using the 'train_test_split' function from sklear library\n",
        "#The first parameter is the set of independent variables, the second parameter is the dependent variable\n",
        "#The 'test_size' parameter determines the size of the testing dataset. Here we will be using 20% of the dataset for testing\n",
        "X_train, X_test, y_train, y_test = train_test_split(X,y, test_size=0.2)"
      ],
      "metadata": {
        "id": "aOtENDSSjuVU"
      },
      "execution_count": 54,
      "outputs": []
    },
    {
      "cell_type": "code",
      "source": [],
      "metadata": {
        "id": "YI0q4OU8k9x0"
      },
      "execution_count": 55,
      "outputs": []
    },
    {
      "cell_type": "code",
      "source": [
        "#Model Creating\n",
        "#Creating an instance for Naive Bayes Classifier model\n",
        "classifier = GaussianNB()\n",
        "\n",
        "#fitting the training set into the model\n",
        "classifier.fit(X_train, y_train)"
      ],
      "metadata": {
        "colab": {
          "base_uri": "https://localhost:8080/"
        },
        "id": "cw5ZAvCjljJi",
        "outputId": "2ebce32b-e547-4ae9-ce1a-b4ee1deb96e5"
      },
      "execution_count": 56,
      "outputs": [
        {
          "output_type": "execute_result",
          "data": {
            "text/plain": [
              "GaussianNB()"
            ]
          },
          "metadata": {},
          "execution_count": 56
        }
      ]
    },
    {
      "cell_type": "code",
      "source": [
        "#Predicting test results\n",
        "y_predictions = classifier.predict(X_test)\n",
        "\n",
        "#Printing the prediction results\n",
        "print(y_predictions)"
      ],
      "metadata": {
        "colab": {
          "base_uri": "https://localhost:8080/"
        },
        "id": "Lm6fs91umKEL",
        "outputId": "1979257c-1e68-4701-ee63-0ff5ce31f732"
      },
      "execution_count": 57,
      "outputs": [
        {
          "output_type": "stream",
          "name": "stdout",
          "text": [
            "['Iris-virginica' 'Iris-virginica' 'Iris-versicolor' 'Iris-virginica'\n",
            " 'Iris-setosa' 'Iris-virginica' 'Iris-versicolor' 'Iris-virginica'\n",
            " 'Iris-setosa' 'Iris-setosa' 'Iris-versicolor' 'Iris-virginica'\n",
            " 'Iris-virginica' 'Iris-virginica' 'Iris-virginica' 'Iris-versicolor'\n",
            " 'Iris-setosa' 'Iris-setosa' 'Iris-versicolor' 'Iris-setosa'\n",
            " 'Iris-versicolor' 'Iris-versicolor' 'Iris-setosa' 'Iris-versicolor'\n",
            " 'Iris-setosa' 'Iris-virginica' 'Iris-setosa' 'Iris-setosa'\n",
            " 'Iris-versicolor' 'Iris-virginica']\n"
          ]
        }
      ]
    },
    {
      "cell_type": "code",
      "source": [
        "#Creating a confusion matrix to check the accuracy of our model\n",
        "confusion_mat = confusion_matrix(y_test, y_predictions)\n",
        "\n",
        "#Evaluating the accuracy score\n",
        "accuracy = accuracy_score(y_test, y_predictions)\n",
        "\n",
        "#Printing the accuracy score and confusion matrix\n",
        "print(\"Accuracy: \", accuracy)\n",
        "print(\"Confusion matrix:\\n\", confusion_mat)"
      ],
      "metadata": {
        "colab": {
          "base_uri": "https://localhost:8080/"
        },
        "id": "Kj0bee0dmYdg",
        "outputId": "8e78200d-3427-42d2-ef59-5241954fdec2"
      },
      "execution_count": 58,
      "outputs": [
        {
          "output_type": "stream",
          "name": "stdout",
          "text": [
            "Accuracy:  0.9666666666666667\n",
            "Confusion matrix:\n",
            " [[10  0  0]\n",
            " [ 0  8  0]\n",
            " [ 0  1 11]]\n"
          ]
        }
      ]
    },
    {
      "cell_type": "code",
      "source": [],
      "metadata": {
        "id": "iYrtyZbbnMJy"
      },
      "execution_count": null,
      "outputs": []
    }
  ]
}